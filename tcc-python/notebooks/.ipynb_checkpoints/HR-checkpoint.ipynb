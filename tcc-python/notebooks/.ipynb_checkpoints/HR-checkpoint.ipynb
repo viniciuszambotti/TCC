{
 "cells": [
  {
   "cell_type": "code",
   "execution_count": null,
   "metadata": {},
   "outputs": [],
   "source": [
    "import pandas as pd\n",
    "import matplotlib.pyplot as plt \n",
    "import os\n",
    "\n",
    "df =  pd.read_csv('C:/Users/Vinicius Zambotti/Documents/codes/TCC/tcc-python/notebooks/dataset/HR.csv')\n",
    "employment_status = df.groupby(by='Employment Status').size().sort_values(ascending=False).head(10)\n",
    "labels = 'Voluntariamente rescindido', 'Terminado por Causa', 'Afastamento'\n",
    "sizes = [88, 14, 14]\n",
    "colors = ['skyblue', 'lightgreen', 'lightcoral']"
   ]
  },
  {
   "cell_type": "code",
   "execution_count": null,
   "metadata": {},
   "outputs": [],
   "source": [
    "plt.pie(sizes,               \n",
    "        labels=labels,      \n",
    "        colors=colors,      \n",
    "        autopct='%1.1f%%',  \n",
    "        startangle=30       \n",
    "        )\n",
    "\n",
    "plt.axis('equal')\n",
    "plt.show()\n"
   ]
  },
  {
   "cell_type": "code",
   "execution_count": null,
   "metadata": {},
   "outputs": [],
   "source": [
    "plt.pie(sizes,               \n",
    "        labels=labels,      \n",
    "        colors=colors,      \n",
    "        autopct='%1.1f%%',  \n",
    "        startangle=30       \n",
    "        )\n",
    "\n",
    "plt.axis('equal')\n",
    "plt.show()"
   ]
  }
 ],
 "metadata": {
  "kernelspec": {
   "display_name": "Python 3",
   "language": "python",
   "name": "python3"
  },
  "language_info": {
   "codemirror_mode": {
    "name": "ipython",
    "version": 3
   },
   "file_extension": ".py",
   "mimetype": "text/x-python",
   "name": "python",
   "nbconvert_exporter": "python",
   "pygments_lexer": "ipython3",
   "version": "3.6.5"
  }
 },
 "nbformat": 4,
 "nbformat_minor": 2
}
